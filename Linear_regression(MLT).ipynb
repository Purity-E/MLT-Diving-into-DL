{
  "nbformat": 4,
  "nbformat_minor": 0,
  "metadata": {
    "colab": {
      "name": "Linear_regression(MLT).ipynb",
      "provenance": [],
      "collapsed_sections": [],
      "authorship_tag": "ABX9TyMx2uEVR6BYhK/NfVTSaEPq"
    },
    "kernelspec": {
      "name": "python3",
      "display_name": "Python 3"
    },
    "language_info": {
      "name": "python"
    }
  },
  "cells": [
    {
      "cell_type": "code",
      "metadata": {
        "id": "Wq22ncQUABSn",
        "colab": {
          "base_uri": "https://localhost:8080/"
        },
        "outputId": "0de8a515-b696-48f9-a369-805936a04a70"
      },
      "source": [
        "# installing library of the book\n",
        "!pip install d2l==0.16.2"
      ],
      "execution_count": 2,
      "outputs": [
        {
          "output_type": "stream",
          "text": [
            "Collecting d2l==0.16.2\n",
            "\u001b[?25l  Downloading https://files.pythonhosted.org/packages/d0/1f/13de7e8cafaba15739caee0596032412aaf51a22726649b317bdb53c4f9a/d2l-0.16.2-py3-none-any.whl (77kB)\n",
            "\r\u001b[K     |████▎                           | 10kB 11.7MB/s eta 0:00:01\r\u001b[K     |████████▌                       | 20kB 17.4MB/s eta 0:00:01\r\u001b[K     |████████████▊                   | 30kB 11.9MB/s eta 0:00:01\r\u001b[K     |█████████████████               | 40kB 9.8MB/s eta 0:00:01\r\u001b[K     |█████████████████████▏          | 51kB 8.5MB/s eta 0:00:01\r\u001b[K     |█████████████████████████▌      | 61kB 8.0MB/s eta 0:00:01\r\u001b[K     |█████████████████████████████▊  | 71kB 7.6MB/s eta 0:00:01\r\u001b[K     |████████████████████████████████| 81kB 3.9MB/s \n",
            "\u001b[?25hRequirement already satisfied: jupyter in /usr/local/lib/python3.7/dist-packages (from d2l==0.16.2) (1.0.0)\n",
            "Requirement already satisfied: numpy in /usr/local/lib/python3.7/dist-packages (from d2l==0.16.2) (1.19.5)\n",
            "Requirement already satisfied: requests in /usr/local/lib/python3.7/dist-packages (from d2l==0.16.2) (2.23.0)\n",
            "Requirement already satisfied: matplotlib in /usr/local/lib/python3.7/dist-packages (from d2l==0.16.2) (3.2.2)\n",
            "Requirement already satisfied: pandas in /usr/local/lib/python3.7/dist-packages (from d2l==0.16.2) (1.1.5)\n",
            "Requirement already satisfied: notebook in /usr/local/lib/python3.7/dist-packages (from jupyter->d2l==0.16.2) (5.3.1)\n",
            "Requirement already satisfied: ipywidgets in /usr/local/lib/python3.7/dist-packages (from jupyter->d2l==0.16.2) (7.6.3)\n",
            "Requirement already satisfied: qtconsole in /usr/local/lib/python3.7/dist-packages (from jupyter->d2l==0.16.2) (5.0.3)\n",
            "Requirement already satisfied: nbconvert in /usr/local/lib/python3.7/dist-packages (from jupyter->d2l==0.16.2) (5.6.1)\n",
            "Requirement already satisfied: ipykernel in /usr/local/lib/python3.7/dist-packages (from jupyter->d2l==0.16.2) (4.10.1)\n",
            "Requirement already satisfied: jupyter-console in /usr/local/lib/python3.7/dist-packages (from jupyter->d2l==0.16.2) (5.2.0)\n",
            "Requirement already satisfied: chardet<4,>=3.0.2 in /usr/local/lib/python3.7/dist-packages (from requests->d2l==0.16.2) (3.0.4)\n",
            "Requirement already satisfied: idna<3,>=2.5 in /usr/local/lib/python3.7/dist-packages (from requests->d2l==0.16.2) (2.10)\n",
            "Requirement already satisfied: certifi>=2017.4.17 in /usr/local/lib/python3.7/dist-packages (from requests->d2l==0.16.2) (2020.12.5)\n",
            "Requirement already satisfied: urllib3!=1.25.0,!=1.25.1,<1.26,>=1.21.1 in /usr/local/lib/python3.7/dist-packages (from requests->d2l==0.16.2) (1.24.3)\n",
            "Requirement already satisfied: python-dateutil>=2.1 in /usr/local/lib/python3.7/dist-packages (from matplotlib->d2l==0.16.2) (2.8.1)\n",
            "Requirement already satisfied: pyparsing!=2.0.4,!=2.1.2,!=2.1.6,>=2.0.1 in /usr/local/lib/python3.7/dist-packages (from matplotlib->d2l==0.16.2) (2.4.7)\n",
            "Requirement already satisfied: cycler>=0.10 in /usr/local/lib/python3.7/dist-packages (from matplotlib->d2l==0.16.2) (0.10.0)\n",
            "Requirement already satisfied: kiwisolver>=1.0.1 in /usr/local/lib/python3.7/dist-packages (from matplotlib->d2l==0.16.2) (1.3.1)\n",
            "Requirement already satisfied: pytz>=2017.2 in /usr/local/lib/python3.7/dist-packages (from pandas->d2l==0.16.2) (2018.9)\n",
            "Requirement already satisfied: nbformat in /usr/local/lib/python3.7/dist-packages (from notebook->jupyter->d2l==0.16.2) (5.1.3)\n",
            "Requirement already satisfied: traitlets>=4.2.1 in /usr/local/lib/python3.7/dist-packages (from notebook->jupyter->d2l==0.16.2) (5.0.5)\n",
            "Requirement already satisfied: terminado>=0.8.1 in /usr/local/lib/python3.7/dist-packages (from notebook->jupyter->d2l==0.16.2) (0.9.4)\n",
            "Requirement already satisfied: jupyter-client>=5.2.0 in /usr/local/lib/python3.7/dist-packages (from notebook->jupyter->d2l==0.16.2) (5.3.5)\n",
            "Requirement already satisfied: tornado>=4 in /usr/local/lib/python3.7/dist-packages (from notebook->jupyter->d2l==0.16.2) (5.1.1)\n",
            "Requirement already satisfied: Send2Trash in /usr/local/lib/python3.7/dist-packages (from notebook->jupyter->d2l==0.16.2) (1.5.0)\n",
            "Requirement already satisfied: jupyter-core>=4.4.0 in /usr/local/lib/python3.7/dist-packages (from notebook->jupyter->d2l==0.16.2) (4.7.1)\n",
            "Requirement already satisfied: jinja2 in /usr/local/lib/python3.7/dist-packages (from notebook->jupyter->d2l==0.16.2) (2.11.3)\n",
            "Requirement already satisfied: ipython-genutils in /usr/local/lib/python3.7/dist-packages (from notebook->jupyter->d2l==0.16.2) (0.2.0)\n",
            "Requirement already satisfied: ipython>=4.0.0; python_version >= \"3.3\" in /usr/local/lib/python3.7/dist-packages (from ipywidgets->jupyter->d2l==0.16.2) (5.5.0)\n",
            "Requirement already satisfied: jupyterlab-widgets>=1.0.0; python_version >= \"3.6\" in /usr/local/lib/python3.7/dist-packages (from ipywidgets->jupyter->d2l==0.16.2) (1.0.0)\n",
            "Requirement already satisfied: widgetsnbextension~=3.5.0 in /usr/local/lib/python3.7/dist-packages (from ipywidgets->jupyter->d2l==0.16.2) (3.5.1)\n",
            "Requirement already satisfied: qtpy in /usr/local/lib/python3.7/dist-packages (from qtconsole->jupyter->d2l==0.16.2) (1.9.0)\n",
            "Requirement already satisfied: pygments in /usr/local/lib/python3.7/dist-packages (from qtconsole->jupyter->d2l==0.16.2) (2.6.1)\n",
            "Requirement already satisfied: pyzmq>=17.1 in /usr/local/lib/python3.7/dist-packages (from qtconsole->jupyter->d2l==0.16.2) (22.0.3)\n",
            "Requirement already satisfied: defusedxml in /usr/local/lib/python3.7/dist-packages (from nbconvert->jupyter->d2l==0.16.2) (0.7.1)\n",
            "Requirement already satisfied: testpath in /usr/local/lib/python3.7/dist-packages (from nbconvert->jupyter->d2l==0.16.2) (0.4.4)\n",
            "Requirement already satisfied: entrypoints>=0.2.2 in /usr/local/lib/python3.7/dist-packages (from nbconvert->jupyter->d2l==0.16.2) (0.3)\n",
            "Requirement already satisfied: bleach in /usr/local/lib/python3.7/dist-packages (from nbconvert->jupyter->d2l==0.16.2) (3.3.0)\n",
            "Requirement already satisfied: pandocfilters>=1.4.1 in /usr/local/lib/python3.7/dist-packages (from nbconvert->jupyter->d2l==0.16.2) (1.4.3)\n",
            "Requirement already satisfied: mistune<2,>=0.8.1 in /usr/local/lib/python3.7/dist-packages (from nbconvert->jupyter->d2l==0.16.2) (0.8.4)\n",
            "Requirement already satisfied: prompt-toolkit<2.0.0,>=1.0.0 in /usr/local/lib/python3.7/dist-packages (from jupyter-console->jupyter->d2l==0.16.2) (1.0.18)\n",
            "Requirement already satisfied: six>=1.5 in /usr/local/lib/python3.7/dist-packages (from python-dateutil>=2.1->matplotlib->d2l==0.16.2) (1.15.0)\n",
            "Requirement already satisfied: jsonschema!=2.5.0,>=2.4 in /usr/local/lib/python3.7/dist-packages (from nbformat->notebook->jupyter->d2l==0.16.2) (2.6.0)\n",
            "Requirement already satisfied: ptyprocess; os_name != \"nt\" in /usr/local/lib/python3.7/dist-packages (from terminado>=0.8.1->notebook->jupyter->d2l==0.16.2) (0.7.0)\n",
            "Requirement already satisfied: MarkupSafe>=0.23 in /usr/local/lib/python3.7/dist-packages (from jinja2->notebook->jupyter->d2l==0.16.2) (1.1.1)\n",
            "Requirement already satisfied: setuptools>=18.5 in /usr/local/lib/python3.7/dist-packages (from ipython>=4.0.0; python_version >= \"3.3\"->ipywidgets->jupyter->d2l==0.16.2) (56.0.0)\n",
            "Requirement already satisfied: decorator in /usr/local/lib/python3.7/dist-packages (from ipython>=4.0.0; python_version >= \"3.3\"->ipywidgets->jupyter->d2l==0.16.2) (4.4.2)\n",
            "Requirement already satisfied: simplegeneric>0.8 in /usr/local/lib/python3.7/dist-packages (from ipython>=4.0.0; python_version >= \"3.3\"->ipywidgets->jupyter->d2l==0.16.2) (0.8.1)\n",
            "Requirement already satisfied: pickleshare in /usr/local/lib/python3.7/dist-packages (from ipython>=4.0.0; python_version >= \"3.3\"->ipywidgets->jupyter->d2l==0.16.2) (0.7.5)\n",
            "Requirement already satisfied: pexpect; sys_platform != \"win32\" in /usr/local/lib/python3.7/dist-packages (from ipython>=4.0.0; python_version >= \"3.3\"->ipywidgets->jupyter->d2l==0.16.2) (4.8.0)\n",
            "Requirement already satisfied: packaging in /usr/local/lib/python3.7/dist-packages (from bleach->nbconvert->jupyter->d2l==0.16.2) (20.9)\n",
            "Requirement already satisfied: webencodings in /usr/local/lib/python3.7/dist-packages (from bleach->nbconvert->jupyter->d2l==0.16.2) (0.5.1)\n",
            "Requirement already satisfied: wcwidth in /usr/local/lib/python3.7/dist-packages (from prompt-toolkit<2.0.0,>=1.0.0->jupyter-console->jupyter->d2l==0.16.2) (0.2.5)\n",
            "Installing collected packages: d2l\n",
            "Successfully installed d2l-0.16.2\n"
          ],
          "name": "stdout"
        }
      ]
    },
    {
      "cell_type": "code",
      "metadata": {
        "id": "2wRtWeChDH3p"
      },
      "source": [
        "# importing libraries\n",
        "import random\n",
        "import torch\n",
        "from d2l import torch as d2l\n",
        "import matplotlib.pyplot as plt\n",
        "%matplotlib inline"
      ],
      "execution_count": 3,
      "outputs": []
    },
    {
      "cell_type": "code",
      "metadata": {
        "id": "XYwZ9yRVFRxy"
      },
      "source": [
        "# generating synthetic datasets\n",
        "# generating 1000 datapoints where true model parameters are w=[2, -3.4] and b=4.2\n",
        "# defining function to generate data\n",
        "def synthetic_data(w, b, num_samples ):\n",
        "  x = torch.normal(0, 1, (num_samples, len(w)))\n",
        "  # without noise\n",
        "  y = torch.matmul(x, w) + b\n",
        "  # adding gauasian noise \n",
        "  y += torch.normal(0, 0.01, y.shape) \n",
        "  return x, y.reshape((-1, 1))\n"
      ],
      "execution_count": 4,
      "outputs": []
    },
    {
      "cell_type": "code",
      "metadata": {
        "id": "fxGA38dULBD-"
      },
      "source": [
        "true_w = torch.Tensor([2, -3.4])\n",
        "true_b = 4.2\n",
        "num_samples = 1000 \n",
        "Features, labels = synthetic_data(true_w, true_b, num_samples)"
      ],
      "execution_count": 5,
      "outputs": []
    },
    {
      "cell_type": "code",
      "metadata": {
        "colab": {
          "base_uri": "https://localhost:8080/"
        },
        "id": "GH11AMMTMw9U",
        "outputId": "75d8d2ca-bead-460e-9384-d359d296767e"
      },
      "source": [
        "# printing features & lables\n",
        "print(f'Features: {Features[0,:]}')\n",
        "print(f'Label: {labels[0]}')"
      ],
      "execution_count": 6,
      "outputs": [
        {
          "output_type": "stream",
          "text": [
            "Features: tensor([-0.0633, -0.1622])\n",
            "Label: tensor([4.6367])\n"
          ],
          "name": "stdout"
        }
      ]
    },
    {
      "cell_type": "code",
      "metadata": {
        "colab": {
          "base_uri": "https://localhost:8080/",
          "height": 388
        },
        "id": "n2AhKrEtReO2",
        "outputId": "fe114641-bc28-4ad1-9dc6-cac1d27a9f30"
      },
      "source": [
        "# plotting all datapoints\n",
        "fig , (ax1, ax2) = plt.subplots(1, 2, figsize=(12, 6))\n",
        "ax1.scatter(Features[:, 0], labels)\n",
        "ax1.set_xlabel('Feature 1')\n",
        "ax1.set_ylabel('Label')\n",
        "ax2.scatter(Features[:, 1], labels)\n",
        "ax2.set_xlabel('Feature 2')\n",
        "ax2.set_ylabel('Label')\n",
        "plt.show()\n",
        "plt.close()\n"
      ],
      "execution_count": 7,
      "outputs": [
        {
          "output_type": "display_data",
          "data": {
            "image/png": "[encoded data removed]",
            "text/plain": [
              "<Figure size 864x432 with 2 Axes>"
            ]
          },
          "metadata": {
            "tags": [],
            "needs_background": "light"
          }
        }
      ]
    },
    {
      "cell_type": "code",
      "metadata": {
        "id": "e7tgNFpXQ0Qo"
      },
      "source": [
        "# iterating over the minibatches\n",
        "# generating minibatches\n",
        "def data_iter(batch_size, features, labels):\n",
        "  num_samples = len(features)\n",
        "  indices = list(range(num_samples))\n",
        "  random.shuffle(indices)\n",
        "  for i in range(0, num_samples, batch_size):\n",
        "    batch_indices = torch.tensor(indices[i:min(i+batch_size, num_samples)])\n",
        "    yield features[batch_indices], labels[batch_indices]"
      ],
      "execution_count": 8,
      "outputs": []
    },
    {
      "cell_type": "code",
      "metadata": {
        "colab": {
          "base_uri": "https://localhost:8080/"
        },
        "id": "phA4n0EdsBy8",
        "outputId": "7476f222-c4f0-4764-f0d3-9b2f618c11ba"
      },
      "source": [
        "batch_size = 10\n",
        "for x,y in data_iter(batch_size, Features, labels):\n",
        "  print(x, '\\n', y)\n",
        "  print(x.shape)\n",
        "  print(y.shape)\n",
        "  break"
      ],
      "execution_count": 9,
      "outputs": [
        {
          "output_type": "stream",
          "text": [
            "tensor([[-0.4270, -0.7270],\n",
            "        [ 0.9233,  0.6708],\n",
            "        [-0.4007,  1.2550],\n",
            "        [ 0.6412,  1.3493],\n",
            "        [ 0.7442, -0.2726],\n",
            "        [ 0.3403,  0.2842],\n",
            "        [ 0.5094,  1.5450],\n",
            "        [-1.1096, -0.1533],\n",
            "        [ 0.2431,  0.5122],\n",
            "        [ 0.9626, -0.0985]]) \n",
            " tensor([[ 5.8098],\n",
            "        [ 3.7791],\n",
            "        [-0.8713],\n",
            "        [ 0.8871],\n",
            "        [ 6.6037],\n",
            "        [ 3.9105],\n",
            "        [-0.0278],\n",
            "        [ 2.5080],\n",
            "        [ 2.9614],\n",
            "        [ 6.4568]])\n",
            "torch.Size([10, 2])\n",
            "torch.Size([10, 1])\n"
          ],
          "name": "stdout"
        }
      ]
    },
    {
      "cell_type": "code",
      "metadata": {
        "id": "NWYeMPQ_tqQL"
      },
      "source": [
        "# initializing model parameters\n",
        "w = torch.normal(0, 0.01, size=(2,1), requires_grad=True)\n",
        "b = torch.zeros(1, requires_grad=True)\n"
      ],
      "execution_count": 10,
      "outputs": []
    },
    {
      "cell_type": "code",
      "metadata": {
        "id": "8gNoHYKOugXp"
      },
      "source": [
        "# defining model\n",
        "def lin_reg(x, w, b):\n",
        "  return torch.matmul(x, w) + b"
      ],
      "execution_count": 11,
      "outputs": []
    },
    {
      "cell_type": "code",
      "metadata": {
        "id": "WOKqRDugu_OB"
      },
      "source": [
        "# defining loss function(squared loss function)\n",
        "def sq_loss(y_hat, y):\n",
        "  return (y_hat - y.reshape(y_hat.shape))**2/2\n"
      ],
      "execution_count": 12,
      "outputs": []
    },
    {
      "cell_type": "code",
      "metadata": {
        "id": "nbHtfYNmwHdM"
      },
      "source": [
        "# defining the optimization algorithm\n",
        "def sgd(params, lr, batch_size):\n",
        "  with torch.no_grad():\n",
        "    for param in params:\n",
        "      param -= lr*param.grad/batch_size\n",
        "      param.grad.zero_()"
      ],
      "execution_count": 13,
      "outputs": []
    },
    {
      "cell_type": "code",
      "metadata": {
        "id": "jSOv7qzdxfug"
      },
      "source": [
        "# defining the training loop of the model\n",
        "learning_rate = 0.03\n",
        "num_epochs = 3\n",
        "network = lin_reg\n",
        "loss = sq_loss\n"
      ],
      "execution_count": 14,
      "outputs": []
    },
    {
      "cell_type": "code",
      "metadata": {
        "colab": {
          "base_uri": "https://localhost:8080/"
        },
        "id": "qLnMtUuKy3lE",
        "outputId": "bcb017af-be61-4b3c-83ae-f47c9259d347"
      },
      "source": [
        "# training the model\n",
        "for epoch in range(num_epochs):\n",
        "  for x, y in data_iter(batch_size, Features, labels):\n",
        "    l = loss(network(x, w, b), y)\n",
        "    l.sum().backward()\n",
        "    sgd([w,b], learning_rate, batch_size)\n",
        "  with torch.no_grad():\n",
        "    train_1 = loss(network(Features, w, b), labels)\n",
        "    print(f'epoch {epoch +1}, loss {float(train_1.mean()):}')"
      ],
      "execution_count": 15,
      "outputs": [
        {
          "output_type": "stream",
          "text": [
            "epoch 1, loss 0.029271606355905533\n",
            "epoch 2, loss 0.000104746017314028\n",
            "epoch 3, loss 5.217754005570896e-05\n"
          ],
          "name": "stdout"
        }
      ]
    },
    {
      "cell_type": "code",
      "metadata": {
        "colab": {
          "base_uri": "https://localhost:8080/"
        },
        "id": "1c6sh3ra7Aac",
        "outputId": "91b8c7a0-a715-4c93-99f1-4cedf4ff5ad7"
      },
      "source": [
        "# testing the model\n",
        "print( f'Error in estimatiing w: {true_w - w.reshape(true_w.shape)}')\n",
        "print(f'Error in estimating b: {true_b - b}')"
      ],
      "execution_count": 16,
      "outputs": [
        {
          "output_type": "stream",
          "text": [
            "Error in estimatiing w: tensor([ 0.0002, -0.0002], grad_fn=<SubBackward0>)\n",
            "Error in estimating b: tensor([0.0007], grad_fn=<RsubBackward1>)\n"
          ],
          "name": "stdout"
        }
      ]
    }
  ]
}
{
  "nbformat": 4,
  "nbformat_minor": 0,
  "metadata": {
    "colab": {
      "name": "DL2.ipynb",
      "provenance": [],
      "collapsed_sections": [],
      "authorship_tag": "ABX9TyM42fbWy7VxSXBFoXJ6OMeR"
    },
    "kernelspec": {
      "name": "python3",
      "display_name": "Python 3"
    },
    "language_info": {
      "name": "python"
    }
  },
  "cells": [
    {
      "cell_type": "code",
      "metadata": {
        "id": "Z_eY_-ygZ7HR"
      },
      "source": [
        "#loading dataset\n",
        "import torchvision.transforms as transforms\n",
        "from torchvision import datasets\n",
        "import torch\n",
        "#transforming dataset:\n",
        "#1. converting to Tensor\n",
        "#2. Normalizing images\n",
        "transform = transforms.Compose(\n",
        "    [transforms.ToTensor(),\n",
        "     transforms.Normalize(0.5, 0.5)]\n",
        ")\n",
        "trainset = datasets.MNIST(root = './data', train = True, download=True, transform = transform)\n",
        "#setting batchsize number\n",
        "batch = 256\n",
        "trainloader = torch.utils.data.DataLoader(trainset, batch_size = batch, shuffle=True, num_workers=2)\n",
        "\n"
      ],
      "execution_count": 1,
      "outputs": []
    },
    {
      "cell_type": "code",
      "metadata": {
        "id": "nqsEEmvbh4Ak"
      },
      "source": [
        "dataiter = iter(trainloader)\n",
        "images, labels = dataiter.next()"
      ],
      "execution_count": 2,
      "outputs": []
    },
    {
      "cell_type": "code",
      "metadata": {
        "colab": {
          "base_uri": "https://localhost:8080/"
        },
        "id": "Pgos_h0igj4M",
        "outputId": "88bb00fa-bb64-4c78-8314-99ea5ddba3a2"
      },
      "source": [
        "\n",
        "images.shape, labels.shape"
      ],
      "execution_count": 3,
      "outputs": [
        {
          "output_type": "execute_result",
          "data": {
            "text/plain": [
              "(torch.Size([256, 1, 28, 28]), torch.Size([256]))"
            ]
          },
          "metadata": {
            "tags": []
          },
          "execution_count": 3
        }
      ]
    },
    {
      "cell_type": "code",
      "metadata": {
        "colab": {
          "base_uri": "https://localhost:8080/",
          "height": 283
        },
        "id": "gCbKV2gCieIC",
        "outputId": "932c111b-8f59-4a3b-cd87-6bc87216cc80"
      },
      "source": [
        "#plotting an image\n",
        "from matplotlib import pyplot as plt\n",
        "import numpy as np\n",
        "plt.imshow(images[0].reshape((28, 28)), cmap='gray' )"
      ],
      "execution_count": 4,
      "outputs": [
        {
          "output_type": "execute_result",
          "data": {
            "text/plain": [
              "<matplotlib.image.AxesImage at 0x7f0d53624750>"
            ]
          },
          "metadata": {
            "tags": []
          },
          "execution_count": 4
        },
        {
          "output_type": "display_data",
          "data": {
            "image/png": "[encoded data removed]",
            "text/plain": [
              "<Figure size 432x288 with 1 Axes>"
            ]
          },
          "metadata": {
            "tags": [],
            "needs_background": "light"
          }
        }
      ]
    },
    {
      "cell_type": "code",
      "metadata": {
        "id": "RY3wifd4UFaK"
      },
      "source": [
        "#defining a plotting function for comparing images\n",
        "def plot_it(images):\n",
        "  for i, image in enumerate(images):\n",
        "    if type(image) == torch.Tensor:\n",
        "      images[i] = image.detach().numpy()\n",
        "  image = np.hstack(images)\n",
        "  plt.imshow(image, aspect='auto', cmap='gray')"
      ],
      "execution_count": 5,
      "outputs": []
    },
    {
      "cell_type": "code",
      "metadata": {
        "colab": {
          "base_uri": "https://localhost:8080/"
        },
        "id": "8PZdsJlcWoAe",
        "outputId": "bb3d13db-7ba6-4f68-be80-7c66142af7eb"
      },
      "source": [
        "#defining a test image for trying various transformations\n",
        "sample_image = images[0].reshape((28,28))\n",
        "type(sample_image)"
      ],
      "execution_count": 6,
      "outputs": [
        {
          "output_type": "execute_result",
          "data": {
            "text/plain": [
              "torch.Tensor"
            ]
          },
          "metadata": {
            "tags": []
          },
          "execution_count": 6
        }
      ]
    },
    {
      "cell_type": "code",
      "metadata": {
        "colab": {
          "base_uri": "https://localhost:8080/"
        },
        "id": "R5R9QJu3Xhe4",
        "outputId": "2bca3303-4ba1-40b9-db42-0806ffe784be"
      },
      "source": [
        "#setting device for torch\n",
        "device = torch.device('cuda:0' if torch.cuda.is_available else 'cpu')\n",
        "print(device)"
      ],
      "execution_count": 7,
      "outputs": [
        {
          "output_type": "stream",
          "text": [
            "cuda:0\n"
          ],
          "name": "stdout"
        }
      ]
    },
    {
      "cell_type": "code",
      "metadata": {
        "id": "IMNg4zQabKel"
      },
      "source": [
        "#convolutions\n",
        "def corr2d(x, k):\n",
        "  '''compute 2D cross-correlation'''\n",
        "  h,w = k.shape\n",
        "  #create an empty output of correct size\n",
        "  Y = torch.zeros((x.shape[0]-h+1, x.shape[1]-w+1 ))\n",
        "  #loop over the dimensions of the output image\n",
        "  #calculate cross-corelation\n",
        "  for i in range(Y.shape[0]):\n",
        "    for j in range(Y.shape[1]):\n",
        "      Y[i, j] = (x[i:i+h, j:j+w]*k).sum()\n",
        "  return Y\n",
        "\n"
      ],
      "execution_count": 8,
      "outputs": []
    },
    {
      "cell_type": "code",
      "metadata": {
        "colab": {
          "base_uri": "https://localhost:8080/"
        },
        "id": "CfBRHs7vhVVp",
        "outputId": "b8dd5d4b-bb25-4894-842f-5c6b92c24f62"
      },
      "source": [
        "#convolution in example\n",
        "x = torch.tensor([[0, 1.0, 2.0], [3.0, 4.0, 5.0], [6.0, 7.0, 8.0]])\n",
        "k = torch.tensor([[0, 1.0], [2.0, 3.0]])\n",
        "corr2d(x,k)"
      ],
      "execution_count": 9,
      "outputs": [
        {
          "output_type": "execute_result",
          "data": {
            "text/plain": [
              "tensor([[19., 25.],\n",
              "        [37., 43.]])"
            ]
          },
          "metadata": {
            "tags": []
          },
          "execution_count": 9
        }
      ]
    },
    {
      "cell_type": "code",
      "metadata": {
        "id": "AheIzknJi1S9"
      },
      "source": [
        "#convolution using torch\n",
        "from torch import nn\n",
        "#defining kernel shape\n",
        "conv2d = nn.Conv2d(1, 1, kernel_size = (2,2), bias=False)"
      ],
      "execution_count": 10,
      "outputs": []
    },
    {
      "cell_type": "code",
      "metadata": {
        "id": "n9gJ55sYkFBd"
      },
      "source": [
        "#setting kernel values\n",
        "conv2d.weight.data = torch.tensor([[0, 1.0], [2.0, 3.0]], dtype=torch.float32).reshape((1,1,2,2))"
      ],
      "execution_count": 11,
      "outputs": []
    },
    {
      "cell_type": "code",
      "metadata": {
        "colab": {
          "base_uri": "https://localhost:8080/"
        },
        "id": "5FeIjaO-k6Y6",
        "outputId": "0678d8fd-53f5-4dd9-e6ff-4e6018d1d082"
      },
      "source": [
        "conv2d(x.reshape((1,1,3,3)))"
      ],
      "execution_count": 12,
      "outputs": [
        {
          "output_type": "execute_result",
          "data": {
            "text/plain": [
              "tensor([[[[19., 25.],\n",
              "          [37., 43.]]]], grad_fn=<ThnnConv2DBackward>)"
            ]
          },
          "metadata": {
            "tags": []
          },
          "execution_count": 12
        }
      ]
    },
    {
      "cell_type": "code",
      "metadata": {
        "id": "zvyWI84plgto"
      },
      "source": [
        "#convolution on the test image\n",
        "#define kernel shape\n",
        "conv2d = conv2d = nn.Conv2d(1, 1, kernel_size = (1,2), bias=False)\n",
        "#setting kernel values\n",
        "conv2d.weight.data = torch.tensor([1.0, -1.0], dtype=torch.float32).reshape((1,1,1,2))"
      ],
      "execution_count": 13,
      "outputs": []
    },
    {
      "cell_type": "code",
      "metadata": {
        "id": "uzplQr2wnFj7"
      },
      "source": [
        "convoled_image = conv2d(sample_image.reshape(1,1,28,28))"
      ],
      "execution_count": 14,
      "outputs": []
    },
    {
      "cell_type": "code",
      "metadata": {
        "colab": {
          "base_uri": "https://localhost:8080/",
          "height": 265
        },
        "id": "o1TTNrTmnodI",
        "outputId": "a8cfd125-550c-4adf-b930-43873aa8f97c"
      },
      "source": [
        "#plotting\n",
        "plot_it([sample_image, convoled_image[0,0,:,:]])"
      ],
      "execution_count": 15,
      "outputs": [
        {
          "output_type": "display_data",
          "data": {
            "image/png": "[encoded data removed]",
            "text/plain": [
              "<Figure size 432x288 with 1 Axes>"
            ]
          },
          "metadata": {
            "tags": [],
            "needs_background": "light"
          }
        }
      ]
    },
    {
      "cell_type": "code",
      "metadata": {
        "colab": {
          "base_uri": "https://localhost:8080/"
        },
        "id": "shztOBiSpX6E",
        "outputId": "cac4a7aa-6d5d-481b-8a4e-0870142f60c7"
      },
      "source": [
        "sample_image.shape, convoled_image.shape"
      ],
      "execution_count": 16,
      "outputs": [
        {
          "output_type": "execute_result",
          "data": {
            "text/plain": [
              "(torch.Size([28, 28]), torch.Size([1, 1, 28, 27]))"
            ]
          },
          "metadata": {
            "tags": []
          },
          "execution_count": 16
        }
      ]
    },
    {
      "cell_type": "code",
      "metadata": {
        "id": "Bhjp7eoJqGLw"
      },
      "source": [
        "#defining kernel shape and padding\n",
        "conv2d = nn.Conv2d(1, 1, kernel_size = (1,2), bias=False, padding=(0,10))"
      ],
      "execution_count": 17,
      "outputs": []
    },
    {
      "cell_type": "code",
      "metadata": {
        "id": "xBkQugJ3r_zJ"
      },
      "source": [
        "#setting kernel values\n",
        "conv2d.weight.data = torch.tensor([1.0, -1.0], dtype=torch.float32).reshape((1,1,1,2))\n",
        "#applying the kernel on the test image\n",
        "convoled_image_pad = conv2d(sample_image.reshape(1,1,28,28))"
      ],
      "execution_count": 18,
      "outputs": []
    },
    {
      "cell_type": "code",
      "metadata": {
        "colab": {
          "base_uri": "https://localhost:8080/",
          "height": 265
        },
        "id": "Nxi1Q58FtdjM",
        "outputId": "502b7a09-897e-4633-be0b-1bc206c1c04d"
      },
      "source": [
        "#plotting\n",
        "plot_it([sample_image, convoled_image_pad[0,0,:,:]])"
      ],
      "execution_count": 19,
      "outputs": [
        {
          "output_type": "display_data",
          "data": {
            "image/png": "[encoded data removed]",
            "text/plain": [
              "<Figure size 432x288 with 1 Axes>"
            ]
          },
          "metadata": {
            "tags": [],
            "needs_background": "light"
          }
        }
      ]
    },
    {
      "cell_type": "code",
      "metadata": {
        "colab": {
          "base_uri": "https://localhost:8080/"
        },
        "id": "GVRjnhEEvRpe",
        "outputId": "09a7b852-d92c-4a91-e231-3fc8a85d47f7"
      },
      "source": [
        "sample_image.shape, convoled_image_pad.shape"
      ],
      "execution_count": 20,
      "outputs": [
        {
          "output_type": "execute_result",
          "data": {
            "text/plain": [
              "(torch.Size([28, 28]), torch.Size([1, 1, 28, 47]))"
            ]
          },
          "metadata": {
            "tags": []
          },
          "execution_count": 20
        }
      ]
    },
    {
      "cell_type": "code",
      "metadata": {
        "id": "l6K2aVJ6wIga"
      },
      "source": [
        "#define kernel shape, padding and stride\n",
        "conv2d = nn.Conv2d(1, 1, kernel_size = (1,2), bias=False, padding=(0,0), stride=(1,2))\n"
      ],
      "execution_count": 21,
      "outputs": []
    },
    {
      "cell_type": "code",
      "metadata": {
        "id": "3Mtfs34kwgOE"
      },
      "source": [
        "#setting kernel values\n",
        "conv2d.weight.data = torch.tensor([1.0, -1.0], dtype=torch.float32).reshape((1,1,1,2))\n",
        "#applying the kernel on the test image\n",
        "convoled_image_stride = conv2d(sample_image.reshape(1,1,28,28))"
      ],
      "execution_count": 22,
      "outputs": []
    },
    {
      "cell_type": "code",
      "metadata": {
        "colab": {
          "base_uri": "https://localhost:8080/",
          "height": 265
        },
        "id": "s9D8kjpcwybY",
        "outputId": "9d13986f-ce8f-470c-c3f9-25c0fdce4e1e"
      },
      "source": [
        "#plotting\n",
        "plot_it([sample_image, convoled_image_stride[0,0,:,:]])"
      ],
      "execution_count": 23,
      "outputs": [
        {
          "output_type": "display_data",
          "data": {
            "image/png": "[encoded data removed]",
            "text/plain": [
              "<Figure size 432x288 with 1 Axes>"
            ]
          },
          "metadata": {
            "tags": [],
            "needs_background": "light"
          }
        }
      ]
    },
    {
      "cell_type": "code",
      "metadata": {
        "colab": {
          "base_uri": "https://localhost:8080/"
        },
        "id": "NGihIxWgxBrK",
        "outputId": "76e2d57c-2018-47aa-d14e-49eb8e7097f8"
      },
      "source": [
        "sample_image.shape, convoled_image_stride.shape"
      ],
      "execution_count": 24,
      "outputs": [
        {
          "output_type": "execute_result",
          "data": {
            "text/plain": [
              "(torch.Size([28, 28]), torch.Size([1, 1, 28, 14]))"
            ]
          },
          "metadata": {
            "tags": []
          },
          "execution_count": 24
        }
      ]
    },
    {
      "cell_type": "code",
      "metadata": {
        "id": "8xSdbseBxiRN"
      },
      "source": [
        "#maxpooling\n",
        "pool2d = nn.MaxPool2d((2,2))\n",
        "pooled_image = pool2d(sample_image.reshape(1,1,28,28))"
      ],
      "execution_count": 25,
      "outputs": []
    },
    {
      "cell_type": "code",
      "metadata": {
        "colab": {
          "base_uri": "https://localhost:8080/",
          "height": 265
        },
        "id": "Bc2x9laMyhEy",
        "outputId": "83586942-3003-48fe-a41e-fa12530fac5d"
      },
      "source": [
        "plot_it([pooled_image[0,0]])"
      ],
      "execution_count": 26,
      "outputs": [
        {
          "output_type": "display_data",
          "data": {
            "image/png": "[encoded data removed]",
            "text/plain": [
              "<Figure size 432x288 with 1 Axes>"
            ]
          },
          "metadata": {
            "tags": [],
            "needs_background": "light"
          }
        }
      ]
    },
    {
      "cell_type": "code",
      "metadata": {
        "colab": {
          "base_uri": "https://localhost:8080/"
        },
        "id": "4-RUGgUFypeq",
        "outputId": "f07e4f71-0a70-4004-cc38-3dbfaa6f9f02"
      },
      "source": [
        "pooled_image.shape"
      ],
      "execution_count": 27,
      "outputs": [
        {
          "output_type": "execute_result",
          "data": {
            "text/plain": [
              "torch.Size([1, 1, 14, 14])"
            ]
          },
          "metadata": {
            "tags": []
          },
          "execution_count": 27
        }
      ]
    },
    {
      "cell_type": "code",
      "metadata": {
        "id": "l6e3Vg2ly3eQ"
      },
      "source": [
        "#learning a kernel\n",
        "#creating two images x:input, y:transformed image\n",
        "#using no_grad() so as not to remember the gradient\n",
        "#using conv2d to form y\n",
        "with torch.no_grad():\n",
        "  X = images[0].reshape(1,1,28,28)\n",
        "  conv2d = nn.Conv2d(1, 1, kernel_size = (1,2), bias=False)\n",
        "  conv2d.weight.data = torch.tensor([1.0, -1.0], dtype=torch.float32).reshape((1,1,1,2))\n",
        "  Y = conv2d(X)"
      ],
      "execution_count": 28,
      "outputs": []
    },
    {
      "cell_type": "code",
      "metadata": {
        "colab": {
          "base_uri": "https://localhost:8080/"
        },
        "id": "b6hmiBvY2AWg",
        "outputId": "923dee17-e3de-47f7-b23f-c5705c579da5"
      },
      "source": [
        "#define kernel(no values set)\n",
        "conv2d = nn.Conv2d(1, 1, kernel_size = (1,2), bias=False)\n",
        "X = X.reshape(1,1,28,28)\n",
        "Y = Y.reshape(1,1,28,27)\n",
        "lr = 3*-1.282 #learning rate\n",
        "#training loop\n",
        "for i in range(100):\n",
        "  #applying kernel input\n",
        "  Y_hat = conv2d(X)\n",
        "  #calculating the loss\n",
        "  l = (Y-Y_hat)**2\n",
        "  #setting gradients to zero\n",
        "  conv2d.zero_grad()\n",
        "  #backprop loss\n",
        "  l.sum().backward()\n",
        "  #update kernel\n",
        "  conv2d.weight.data[:] -= lr*conv2d.weight.grad\n",
        "  #print loss\n",
        "  if (i+1)%10==0:\n",
        "    print(f'loss{l.sum():.3f}')\n"
      ],
      "execution_count": 29,
      "outputs": [
        {
          "output_type": "stream",
          "text": [
            "lossinf\n",
            "lossnan\n",
            "lossnan\n",
            "lossnan\n",
            "lossnan\n",
            "lossnan\n",
            "lossnan\n",
            "lossnan\n",
            "lossnan\n",
            "lossnan\n"
          ],
          "name": "stdout"
        }
      ]
    },
    {
      "cell_type": "code",
      "metadata": {
        "colab": {
          "base_uri": "https://localhost:8080/"
        },
        "id": "TkNf7yW18oof",
        "outputId": "2ed79782-65c5-4120-fbde-df798a7ab348"
      },
      "source": [
        "conv2d.weight.data"
      ],
      "execution_count": 30,
      "outputs": [
        {
          "output_type": "execute_result",
          "data": {
            "text/plain": [
              "tensor([[[[nan, nan]]]])"
            ]
          },
          "metadata": {
            "tags": []
          },
          "execution_count": 30
        }
      ]
    },
    {
      "cell_type": "code",
      "metadata": {
        "id": "-T0tLjq-JDG4"
      },
      "source": [
        "#LeNet\n",
        "import torch.nn as nn\n",
        "class Net(nn.Module):\n",
        "  def __init__(self):\n",
        "    super().__init__()\n",
        "    #define all kernels needed\n",
        "    #conv2d_1\n",
        "    self.conv1 = nn.Conv2d(1, 6, kernel_size=5, padding=2)\n",
        "    #pool\n",
        "    self.pool = nn.AvgPool2d(kernel_size=2, stride=2)\n",
        "    #conv2d_2\n",
        "    self.conv2 = nn.Conv2d(6, 16, kernel_size=5)\n",
        "    #fully connected 1\n",
        "    self.fc1 = nn.Linear(16*5*5, 120)\n",
        "    #fully connected 2\n",
        "    self.fc2 = nn.Linear(120,84)\n",
        "    #fully connected 3\n",
        "    self.fc3 = nn.Linear(84, 10)\n",
        "  #defining how layers follows each other\n",
        "  def forward(self, x):\n",
        "    x = self.pool(torch.sigmoid(self.conv1(x)))\n",
        "    x = self.pool(torch.sigmoid(self.conv2(x)))\n",
        "    #flattening\n",
        "    x = x.view(-1, 16*5*5)\n",
        "    x = torch.sigmoid(self.fc1(x))\n",
        "    x = torch.sigmoid(self.fc2(x))\n",
        "    x = self.fc3(x)\n",
        "    return x\n",
        "\n",
        "\n"
      ],
      "execution_count": 31,
      "outputs": []
    },
    {
      "cell_type": "code",
      "metadata": {
        "id": "ryXtekO3PHud"
      },
      "source": [
        "net = Net()"
      ],
      "execution_count": 32,
      "outputs": []
    },
    {
      "cell_type": "code",
      "metadata": {
        "id": "yDGulTb2PyaT"
      },
      "source": [
        "#loss and optimizer\n",
        "#setting loss and optimizer\n",
        "import torch.optim as optim\n",
        "criterion = nn.CrossEntropyLoss()\n",
        "optimizer = optim.SGD(net.parameters(), lr=0.5, momentum=0.9)"
      ],
      "execution_count": 33,
      "outputs": []
    },
    {
      "cell_type": "code",
      "metadata": {
        "colab": {
          "base_uri": "https://localhost:8080/"
        },
        "id": "u7FhWdnPTLBZ",
        "outputId": "f49a1663-35d2-48f4-bb66-d90a4e88546e"
      },
      "source": [
        "device"
      ],
      "execution_count": 34,
      "outputs": [
        {
          "output_type": "execute_result",
          "data": {
            "text/plain": [
              "device(type='cuda', index=0)"
            ]
          },
          "metadata": {
            "tags": []
          },
          "execution_count": 34
        }
      ]
    },
    {
      "cell_type": "code",
      "metadata": {
        "id": "m5jXDICdSwIX"
      },
      "source": [
        "#send net to device\n",
        "#net.to(device)"
      ],
      "execution_count": 35,
      "outputs": []
    },
    {
      "cell_type": "code",
      "metadata": {
        "colab": {
          "base_uri": "https://localhost:8080/"
        },
        "id": "mXSW4Ry5UXyF",
        "outputId": "6c1828ca-a3ad-4b20-d4cd-3aee7661fafa"
      },
      "source": [
        "#loop over the dataset multiple times\n",
        "for epoch in range(10):\n",
        "  #dataloader loop\n",
        "  for i, (data, y) in enumerate(trainloader, 0):\n",
        "    #getting inputs and sending to GPU\n",
        "    #inputs, labels = data.to(device), y.to(device)\n",
        "    inputs, labels = data, y\n",
        "    #zero the parameter gradients\n",
        "    optimizer.zero_grad()\n",
        "    #forward+backward+optimize\n",
        "    output = net(inputs)\n",
        "    loss = criterion(output, labels)\n",
        "    loss.backward()\n",
        "    optimizer.step()\n",
        "  print(f'loss at the final batch of each epoch {epoch} is:{loss.item():.3f}')\n"
      ],
      "execution_count": 36,
      "outputs": [
        {
          "output_type": "stream",
          "text": [
            "loss at the final batch of each epoch 0 is:2.300\n",
            "loss at the final batch of each epoch 1 is:2.296\n",
            "loss at the final batch of each epoch 2 is:1.718\n",
            "loss at the final batch of each epoch 3 is:0.183\n",
            "loss at the final batch of each epoch 4 is:0.320\n",
            "loss at the final batch of each epoch 5 is:0.087\n",
            "loss at the final batch of each epoch 6 is:0.057\n",
            "loss at the final batch of each epoch 7 is:0.048\n",
            "loss at the final batch of each epoch 8 is:0.015\n",
            "loss at the final batch of each epoch 9 is:0.062\n"
          ],
          "name": "stdout"
        }
      ]
    },
    {
      "cell_type": "code",
      "metadata": {
        "colab": {
          "base_uri": "https://localhost:8080/",
          "height": 265
        },
        "id": "yPLA84bUZcqY",
        "outputId": "56c4ff4b-e742-4a96-b732-61ae046d01a5"
      },
      "source": [
        "plot_it([sample_image])"
      ],
      "execution_count": 37,
      "outputs": [
        {
          "output_type": "display_data",
          "data": {
            "image/png": "[encoded data removed]",
            "text/plain": [
              "<Figure size 432x288 with 1 Axes>"
            ]
          },
          "metadata": {
            "tags": [],
            "needs_background": "light"
          }
        }
      ]
    },
    {
      "cell_type": "code",
      "metadata": {
        "colab": {
          "base_uri": "https://localhost:8080/"
        },
        "id": "iJYlub61ZyhO",
        "outputId": "89928a34-65fa-4ecd-8d5c-04dbfd53039e"
      },
      "source": [
        "#see prediction\n",
        "torch.argmax(net(sample_image.reshape(1,1,28,28)))"
      ],
      "execution_count": 38,
      "outputs": [
        {
          "output_type": "execute_result",
          "data": {
            "text/plain": [
              "tensor(8)"
            ]
          },
          "metadata": {
            "tags": []
          },
          "execution_count": 38
        }
      ]
    },
    {
      "cell_type": "code",
      "metadata": {
        "id": "Pk-HQDgTaSt8"
      },
      "source": [
        "#VGG\n",
        "#VGG requires large images\n",
        "#resizing images using transforms\n",
        "transform = transforms.Compose(\n",
        "    [transforms.ToTensor(),\n",
        "     transforms.Normalize(0.5, 0.5),\n",
        "     transforms.Resize(224)]\n",
        ")\n",
        "trainset = datasets.MNIST(root = './data', train = True, download=True, transform = transform)\n",
        "#setting batchsize number\n",
        "batch = 64\n",
        "trainloader = torch.utils.data.DataLoader(trainset, batch_size = batch, shuffle=True, num_workers=2)"
      ],
      "execution_count": 39,
      "outputs": []
    },
    {
      "cell_type": "code",
      "metadata": {
        "id": "nTT570Dvcje1"
      },
      "source": [
        "import torch\n",
        "from torch import nn"
      ],
      "execution_count": 40,
      "outputs": []
    },
    {
      "cell_type": "code",
      "metadata": {
        "id": "KkVY4X63c_SA"
      },
      "source": [
        "#creating VGG blocks\n",
        "#structure is:\n",
        "#N(convolutions (3by3) + ReLU)\n",
        "def vgg_block(num_convs, in_channels, out_channels):\n",
        "  layers = []\n",
        "  #loop to define number convs convolution kernels\n",
        "  for _ in range(num_convs):\n",
        "    layers.append(nn.Conv2d(in_channels, out_channels, kernel_size=3, padding=1))\n",
        "    layers.append(nn.ReLU())\n",
        "    in_channels=out_channels\n",
        "  #maxpooling\n",
        "  layers.append(nn.MaxPool2d(kernel_size=2, stride=2))\n",
        "  return(nn.Sequential(*layers))"
      ],
      "execution_count": 41,
      "outputs": []
    },
    {
      "cell_type": "code",
      "metadata": {
        "id": "07wFbZPGgUGX"
      },
      "source": [
        "#making the network\n",
        "#defining the architecture for blocks i.e (n_convs, out_channels)\n",
        "conv_arch = ((1, 64), (1, 128), (2, 256), (2, 512), (2, 512))\n",
        "def vgg(conv_arch):\n",
        "  conv_blocks = []\n",
        "  in_channels = 1\n",
        "  #loop over architector to make vgg blocks\n",
        "  for (num_convs, out_channels) in conv_arch:\n",
        "    conv_blocks.append(vgg_block(num_convs, in_channels, out_channels))\n",
        "    in_channels = out_channels\n",
        "  #add final FC layers and return\n",
        "  model = nn.Sequential(*conv_blocks, nn.Flatten(),\n",
        "                        #FC layers\n",
        "                        nn.Linear(out_channels*7*7, 4096),\n",
        "                        nn.ReLU(),\n",
        "                        nn.Dropout(0.5),\n",
        "                        nn.Linear(4096, 4096),\n",
        "                        nn.ReLU(),\n",
        "                        nn.Dropout(0.5),\n",
        "                        nn.Linear(4096, 10))\n",
        "  return model\n",
        "\n"
      ],
      "execution_count": 42,
      "outputs": []
    },
    {
      "cell_type": "code",
      "metadata": {
        "id": "gpFiqqh6lfQt"
      },
      "source": [
        "net = vgg(conv_arch)"
      ],
      "execution_count": 43,
      "outputs": []
    },
    {
      "cell_type": "code",
      "metadata": {
        "colab": {
          "base_uri": "https://localhost:8080/"
        },
        "id": "anI1dIRGlmd7",
        "outputId": "7c233bc2-5d7d-446e-fd4e-bce3146496c7"
      },
      "source": [
        "#print network\n",
        "x = torch.randn(size=(1,1,224,224))\n",
        "for blk in net:\n",
        "  x = blk(x)\n",
        "  print(blk.__class__.__name__, 'output shape:\\t', x.shape)"
      ],
      "execution_count": 44,
      "outputs": [
        {
          "output_type": "stream",
          "text": [
            "Sequential output shape:\t torch.Size([1, 64, 112, 112])\n",
            "Sequential output shape:\t torch.Size([1, 128, 56, 56])\n",
            "Sequential output shape:\t torch.Size([1, 256, 28, 28])\n",
            "Sequential output shape:\t torch.Size([1, 512, 14, 14])\n",
            "Sequential output shape:\t torch.Size([1, 512, 7, 7])\n",
            "Flatten output shape:\t torch.Size([1, 25088])\n",
            "Linear output shape:\t torch.Size([1, 4096])\n",
            "ReLU output shape:\t torch.Size([1, 4096])\n",
            "Dropout output shape:\t torch.Size([1, 4096])\n",
            "Linear output shape:\t torch.Size([1, 4096])\n",
            "ReLU output shape:\t torch.Size([1, 4096])\n",
            "Dropout output shape:\t torch.Size([1, 4096])\n",
            "Linear output shape:\t torch.Size([1, 10])\n"
          ],
          "name": "stdout"
        }
      ]
    },
    {
      "cell_type": "code",
      "metadata": {
        "id": "F3UBmqlGm2xL"
      },
      "source": [
        ""
      ],
      "execution_count": 44,
      "outputs": []
    }
  ]
}